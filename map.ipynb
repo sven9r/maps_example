{
 "cells": [
  {
   "cell_type": "code",
   "execution_count": 3,
   "id": "b2ed5e28-b146-47fe-a3b4-eeff4ad820e1",
   "metadata": {},
   "outputs": [
    {
     "name": "stdout",
     "output_type": "stream",
     "text": [
      "Requirement already satisfied: folium in /opt/anaconda3/lib/python3.12/site-packages (0.19.5)\n",
      "Requirement already satisfied: branca>=0.6.0 in /opt/anaconda3/lib/python3.12/site-packages (from folium) (0.8.1)\n",
      "Requirement already satisfied: jinja2>=2.9 in /opt/anaconda3/lib/python3.12/site-packages (from folium) (3.1.4)\n",
      "Requirement already satisfied: numpy in /opt/anaconda3/lib/python3.12/site-packages (from folium) (1.26.4)\n",
      "Requirement already satisfied: requests in /opt/anaconda3/lib/python3.12/site-packages (from folium) (2.32.3)\n",
      "Requirement already satisfied: xyzservices in /opt/anaconda3/lib/python3.12/site-packages (from folium) (2022.9.0)\n",
      "Requirement already satisfied: MarkupSafe>=2.0 in /opt/anaconda3/lib/python3.12/site-packages (from jinja2>=2.9->folium) (2.1.3)\n",
      "Requirement already satisfied: charset-normalizer<4,>=2 in /opt/anaconda3/lib/python3.12/site-packages (from requests->folium) (3.3.2)\n",
      "Requirement already satisfied: idna<4,>=2.5 in /opt/anaconda3/lib/python3.12/site-packages (from requests->folium) (3.7)\n",
      "Requirement already satisfied: urllib3<3,>=1.21.1 in /opt/anaconda3/lib/python3.12/site-packages (from requests->folium) (2.2.3)\n",
      "Requirement already satisfied: certifi>=2017.4.17 in /opt/anaconda3/lib/python3.12/site-packages (from requests->folium) (2024.8.30)\n"
     ]
    }
   ],
   "source": [
    "#Install something in jupyter notebook with !pip (bash it would be pip3 install [package]\n",
    "!pip install folium"
   ]
  },
  {
   "cell_type": "code",
   "execution_count": 9,
   "id": "10707e84-6c32-4c0f-b496-ede26f948c16",
   "metadata": {},
   "outputs": [],
   "source": [
    "# Alternatively you can work in specific environments, but be careful you create parallel installation for each project\n",
    "# Each copy needs their own packages --> a lot of diskspace is burned and actually bad practise when working on clusters\n",
    "#!conda install folium\n"
   ]
  },
  {
   "cell_type": "code",
   "execution_count": null,
   "id": "77b5db83-6aee-4935-8ea2-7efd392c1e16",
   "metadata": {},
   "outputs": [],
   "source": []
  }
 ],
 "metadata": {
  "kernelspec": {
   "display_name": "Python 3 (ipykernel)",
   "language": "python",
   "name": "python3"
  },
  "language_info": {
   "codemirror_mode": {
    "name": "ipython",
    "version": 3
   },
   "file_extension": ".py",
   "mimetype": "text/x-python",
   "name": "python",
   "nbconvert_exporter": "python",
   "pygments_lexer": "ipython3",
   "version": "3.12.7"
  }
 },
 "nbformat": 4,
 "nbformat_minor": 5
}
